{
  "cells": [
    {
      "cell_type": "markdown",
      "metadata": {
        "id": "view-in-github",
        "colab_type": "text"
      },
      "source": [
        "<a href=\"https://colab.research.google.com/github/sahan-2001/Machine-Learning-Tutorial-1-UOM-/blob/main/Tutorial_01.ipynb\" target=\"_parent\"><img src=\"https://colab.research.google.com/assets/colab-badge.svg\" alt=\"Open In Colab\"/></a>"
      ]
    },
    {
      "cell_type": "markdown",
      "metadata": {
        "id": "Zow5jv0YPcKX"
      },
      "source": [
        "**Use of the `print` Function**"
      ]
    },
    {
      "cell_type": "code",
      "execution_count": null,
      "metadata": {
        "colab": {
          "base_uri": "https://localhost:8080/"
        },
        "id": "5jQnXCwsPXDK",
        "outputId": "9cb24897-cdb4-48f3-9229-9239956a78d9"
      },
      "outputs": [
        {
          "name": "stdout",
          "output_type": "stream",
          "text": [
            "Sri Lanka\n"
          ]
        }
      ],
      "source": [
        "print (\"Sri Lanka\")"
      ]
    },
    {
      "cell_type": "markdown",
      "metadata": {
        "id": "-9ypCorQPubs"
      },
      "source": [
        "**Use of a Simple Mathematical Function**\n",
        "\n",
        "Finding the sum"
      ]
    },
    {
      "cell_type": "code",
      "execution_count": null,
      "metadata": {
        "colab": {
          "base_uri": "https://localhost:8080/"
        },
        "id": "qB2g411cPk5u",
        "outputId": "daba985a-ca8a-47bb-ea73-c0a848d25ecf"
      },
      "outputs": [
        {
          "data": {
            "text/plain": [
              "50"
            ]
          },
          "execution_count": 101,
          "metadata": {},
          "output_type": "execute_result"
        }
      ],
      "source": [
        "20 + 30"
      ]
    },
    {
      "cell_type": "markdown",
      "metadata": {
        "id": "_JxHr_KkQGer"
      },
      "source": [
        "Finding the product"
      ]
    },
    {
      "cell_type": "code",
      "execution_count": null,
      "metadata": {
        "colab": {
          "base_uri": "https://localhost:8080/"
        },
        "id": "efCDBG08QFsk",
        "outputId": "34fc53c7-ffae-465e-8a51-a84554bc354b"
      },
      "outputs": [
        {
          "data": {
            "text/plain": [
              "100"
            ]
          },
          "execution_count": 102,
          "metadata": {},
          "output_type": "execute_result"
        }
      ],
      "source": [
        "2 * 5 * 10"
      ]
    },
    {
      "cell_type": "markdown",
      "metadata": {
        "id": "X3sOhNd_QeTu"
      },
      "source": [
        "Storing the values using variables"
      ]
    },
    {
      "cell_type": "code",
      "execution_count": null,
      "metadata": {
        "colab": {
          "base_uri": "https://localhost:8080/"
        },
        "id": "qAf3a8qAQLWR",
        "outputId": "aaf6b4e6-5b8b-4209-97e1-34ecb98bbbe0"
      },
      "outputs": [
        {
          "name": "stdout",
          "output_type": "stream",
          "text": [
            "7\n"
          ]
        }
      ],
      "source": [
        "x = 7\n",
        "print (x)"
      ]
    },
    {
      "cell_type": "markdown",
      "metadata": {
        "id": "eKCmUQzuTrdr"
      },
      "source": [
        "**Obtaining the data type of the stored value**"
      ]
    },
    {
      "cell_type": "code",
      "execution_count": null,
      "metadata": {
        "colab": {
          "base_uri": "https://localhost:8080/"
        },
        "id": "7GrtRbwlUCn9",
        "outputId": "4bfa27f7-d875-4ea1-d236-3786a81a8622"
      },
      "outputs": [
        {
          "data": {
            "text/plain": [
              "int"
            ]
          },
          "execution_count": 104,
          "metadata": {},
          "output_type": "execute_result"
        }
      ],
      "source": [
        "x = 7\n",
        "type(x)"
      ]
    },
    {
      "cell_type": "code",
      "execution_count": null,
      "metadata": {
        "colab": {
          "base_uri": "https://localhost:8080/"
        },
        "id": "eaohgZoqQt4f",
        "outputId": "7c060d03-ba1e-4a3e-dcaf-ca3a36ce8e3f"
      },
      "outputs": [
        {
          "name": "stdout",
          "output_type": "stream",
          "text": [
            "<class 'int'>\n"
          ]
        }
      ],
      "source": [
        "print (type(x))"
      ]
    },
    {
      "cell_type": "code",
      "execution_count": null,
      "metadata": {
        "colab": {
          "base_uri": "https://localhost:8080/"
        },
        "id": "TjlLZ37AUdl4",
        "outputId": "5013fd15-9df5-4dcb-f236-d29a2c329d03"
      },
      "outputs": [
        {
          "data": {
            "text/plain": [
              "float"
            ]
          },
          "execution_count": 106,
          "metadata": {},
          "output_type": "execute_result"
        }
      ],
      "source": [
        "x = 7.5\n",
        "type (x)"
      ]
    },
    {
      "cell_type": "code",
      "execution_count": null,
      "metadata": {
        "colab": {
          "base_uri": "https://localhost:8080/"
        },
        "id": "ZdSPLAtyUh8r",
        "outputId": "37e0f5c2-6d84-4c48-d725-1a06e5aa1f20"
      },
      "outputs": [
        {
          "data": {
            "text/plain": [
              "complex"
            ]
          },
          "execution_count": 13,
          "metadata": {},
          "output_type": "execute_result"
        }
      ],
      "source": [
        "x = 7 + 7.5j\n",
        "type (x)"
      ]
    },
    {
      "cell_type": "code",
      "execution_count": null,
      "metadata": {
        "colab": {
          "base_uri": "https://localhost:8080/"
        },
        "id": "Itwx-sggUzU1",
        "outputId": "eaf53ddf-dd07-4b87-a82d-d4763da24aab"
      },
      "outputs": [
        {
          "data": {
            "text/plain": [
              "bool"
            ]
          },
          "execution_count": 107,
          "metadata": {},
          "output_type": "execute_result"
        }
      ],
      "source": [
        "x = True\n",
        "type (x)"
      ]
    },
    {
      "cell_type": "markdown",
      "metadata": {
        "id": "52Pc2WawRRZh"
      },
      "source": [
        "Using the `input` function to obtain the user inputs (Integers)."
      ]
    },
    {
      "cell_type": "code",
      "execution_count": null,
      "metadata": {
        "colab": {
          "base_uri": "https://localhost:8080/"
        },
        "id": "thevQqnLRAR_",
        "outputId": "1ad452e1-5f6e-44c0-c033-299ba3c9011f"
      },
      "outputs": [
        {
          "name": "stdout",
          "output_type": "stream",
          "text": [
            "Enter number x:2\n",
            "Enter number y:3\n",
            "Addition of x and y is: 5\n"
          ]
        }
      ],
      "source": [
        "#Assigning a number value to x\n",
        "x = int(input('Enter number x:'))\n",
        "#Assigning another number value to y\n",
        "y = int(input('Enter number y:'))\n",
        "#Obtaining the addition of two inputs\n",
        "print ('Addition of x and y is:', (x+y))"
      ]
    },
    {
      "cell_type": "markdown",
      "metadata": {
        "id": "9tz1SaFMTDVO"
      },
      "source": [
        "Using the `input` function to obtain the user inputs (Text or Strings)."
      ]
    },
    {
      "cell_type": "code",
      "execution_count": null,
      "metadata": {
        "colab": {
          "base_uri": "https://localhost:8080/"
        },
        "id": "N-SUu4uzR8O0",
        "outputId": "2bdf0653-11ab-4948-bc19-d6e3fb933062"
      },
      "outputs": [
        {
          "name": "stdout",
          "output_type": "stream",
          "text": [
            "Enter a string x:Ann\n",
            "Enter a string y:tea\n",
            "Concatonation of x and y is: Anntea\n"
          ]
        }
      ],
      "source": [
        "x = (input('Enter a string x:'))\n",
        "y = (input('Enter a string y:'))\n",
        "print ('Concatonation of x and y is:', (x+y))"
      ]
    },
    {
      "cell_type": "markdown",
      "metadata": {
        "id": "fkiGA8iLVE-2"
      },
      "source": [
        "**Objects in Python**"
      ]
    },
    {
      "cell_type": "markdown",
      "metadata": {
        "id": "P0fB2svkVZef"
      },
      "source": [
        "List"
      ]
    },
    {
      "cell_type": "code",
      "execution_count": null,
      "metadata": {
        "colab": {
          "base_uri": "https://localhost:8080/"
        },
        "id": "ybaVFs-2TZob",
        "outputId": "92216fa4-a49c-4c02-f6ae-7acb25ca2ccc"
      },
      "outputs": [
        {
          "output_type": "execute_result",
          "data": {
            "text/plain": [
              "['James', 22, True, 178.5]"
            ]
          },
          "metadata": {},
          "execution_count": 10
        }
      ],
      "source": [
        "#Starts with brackets\n",
        "L1 = [\"James\", 22, True, 178.5]\n",
        "L1"
      ]
    },
    {
      "cell_type": "code",
      "execution_count": null,
      "metadata": {
        "colab": {
          "base_uri": "https://localhost:8080/"
        },
        "id": "ig5i3cZ6WV5i",
        "outputId": "102e0575-0b85-49f6-b2b9-434d488df5ab"
      },
      "outputs": [
        {
          "output_type": "execute_result",
          "data": {
            "text/plain": [
              "list"
            ]
          },
          "metadata": {},
          "execution_count": 11
        }
      ],
      "source": [
        "type(L1)"
      ]
    },
    {
      "cell_type": "markdown",
      "metadata": {
        "id": "-r56UIoUWuFx"
      },
      "source": [
        "Tuple"
      ]
    },
    {
      "cell_type": "code",
      "execution_count": null,
      "metadata": {
        "colab": {
          "base_uri": "https://localhost:8080/"
        },
        "id": "ZVJzKF9YWcE3",
        "outputId": "89a24ce2-57b4-41c5-dea4-c13fed8d2559"
      },
      "outputs": [
        {
          "name": "stdout",
          "output_type": "stream",
          "text": [
            "('Apples', False, 10, 6.02214076e+23)\n",
            "<class 'tuple'>\n"
          ]
        }
      ],
      "source": [
        "#Starts with parantheses\n",
        "tup= (\"Apples\", False, 10, 6.02214076e23)\n",
        "print(tup)\n",
        "print (type(tup))"
      ]
    },
    {
      "cell_type": "markdown",
      "metadata": {
        "id": "6YMPxf1kYCiB"
      },
      "source": [
        "Dictionary"
      ]
    },
    {
      "cell_type": "code",
      "execution_count": null,
      "metadata": {
        "colab": {
          "base_uri": "https://localhost:8080/"
        },
        "id": "8xxug8ORXGGD",
        "outputId": "b7aef00a-fb78-428c-cef0-e18adc6ad3b5"
      },
      "outputs": [
        {
          "name": "stdout",
          "output_type": "stream",
          "text": [
            "{'Name': 'James', 'Age': 22, 'Married': True, 'Height': 178.5}\n",
            "<class 'dict'>\n"
          ]
        }
      ],
      "source": [
        "#Starts with curly braces\n",
        "employee = {\"Name\": \"James\", \"Age\": 22, \"Married\": True, \"Height\": 178.5}\n",
        "print(employee)\n",
        "print (type(employee))"
      ]
    },
    {
      "cell_type": "markdown",
      "metadata": {
        "id": "T1PtMr4xZaB-"
      },
      "source": [
        "Set"
      ]
    },
    {
      "cell_type": "markdown",
      "metadata": {
        "id": "O9jraDlhZrD-"
      },
      "source": [
        "It should be noted that sets only consider unique values and does not consider any duplicates."
      ]
    },
    {
      "cell_type": "code",
      "execution_count": null,
      "metadata": {
        "colab": {
          "base_uri": "https://localhost:8080/"
        },
        "id": "hu6SiLbMZbla",
        "outputId": "04027c4d-f258-4ea3-8aea-de127ebfcb26"
      },
      "outputs": [
        {
          "name": "stdout",
          "output_type": "stream",
          "text": [
            "{'Jan', 'Mar', 'Feb', 'Apr'}\n",
            "<class 'set'>\n"
          ]
        }
      ],
      "source": [
        "month = {\"Jan\", \"Feb\", \"Mar\", \"Apr\", \"Jan\"}\n",
        "print(month)\n",
        "print (type(month))"
      ]
    },
    {
      "cell_type": "markdown",
      "metadata": {
        "id": "m09T8hDQaKTA"
      },
      "source": [
        "Printing the elements in a list"
      ]
    },
    {
      "cell_type": "code",
      "execution_count": null,
      "metadata": {
        "colab": {
          "base_uri": "https://localhost:8080/"
        },
        "id": "B4j8OJyrZo-c",
        "outputId": "f903f66b-2417-46c6-8cd9-0747bb4a6147"
      },
      "outputs": [
        {
          "data": {
            "text/plain": [
              "['James', 22, True, 178.5]"
            ]
          },
          "execution_count": 115,
          "metadata": {},
          "output_type": "execute_result"
        }
      ],
      "source": [
        "#First print the whole list\n",
        "L1"
      ]
    },
    {
      "cell_type": "code",
      "execution_count": null,
      "metadata": {
        "colab": {
          "base_uri": "https://localhost:8080/"
        },
        "id": "gCo92RKUaTNf",
        "outputId": "e6739d50-7cb5-4c9f-f969-cf13e529a60a"
      },
      "outputs": [
        {
          "data": {
            "text/plain": [
              "'James'"
            ]
          },
          "execution_count": 116,
          "metadata": {},
          "output_type": "execute_result"
        }
      ],
      "source": [
        "#Get the object where the index value is zero (0) in `L1`\n",
        "L1[0]"
      ]
    },
    {
      "cell_type": "code",
      "execution_count": null,
      "metadata": {
        "colab": {
          "base_uri": "https://localhost:8080/"
        },
        "id": "8Me4Bcr0aapp",
        "outputId": "69d4d336-6619-415c-b225-e09598c7bd0d"
      },
      "outputs": [
        {
          "data": {
            "text/plain": [
              "22"
            ]
          },
          "execution_count": 117,
          "metadata": {},
          "output_type": "execute_result"
        }
      ],
      "source": [
        "#Get the object where the index value is 1 in `L1`\n",
        "L1[1]"
      ]
    },
    {
      "cell_type": "markdown",
      "metadata": {
        "id": "JXQHoayL9s7d"
      },
      "source": [
        "Negative Indexing in a List"
      ]
    },
    {
      "cell_type": "code",
      "execution_count": null,
      "metadata": {
        "colab": {
          "base_uri": "https://localhost:8080/"
        },
        "id": "MVslQkiSayRr",
        "outputId": "0a2b1654-2388-465a-b13a-a48b24ed5b48"
      },
      "outputs": [
        {
          "data": {
            "text/plain": [
              "178.5"
            ]
          },
          "execution_count": 118,
          "metadata": {},
          "output_type": "execute_result"
        }
      ],
      "source": [
        "#Get the object where the index value is -1 (or negative index value is 1) in `L1`\n",
        "L1[-1]"
      ]
    },
    {
      "cell_type": "markdown",
      "metadata": {
        "id": "_WayzCxf-fwf"
      },
      "source": [
        "Use of Slicing in Lists"
      ]
    },
    {
      "cell_type": "code",
      "execution_count": null,
      "metadata": {
        "colab": {
          "base_uri": "https://localhost:8080/"
        },
        "id": "trnWGwtS9zuu",
        "outputId": "094a98f7-3833-4132-fe1d-b5defe3df72c"
      },
      "outputs": [
        {
          "data": {
            "text/plain": [
              "[22, True]"
            ]
          },
          "execution_count": 119,
          "metadata": {},
          "output_type": "execute_result"
        }
      ],
      "source": [
        "#The value of the last index mentioned is exclusive\n",
        "L1[1:3]"
      ]
    },
    {
      "cell_type": "code",
      "execution_count": null,
      "metadata": {
        "colab": {
          "base_uri": "https://localhost:8080/"
        },
        "id": "chZ5Ermu-mWb",
        "outputId": "121bbb8e-82a6-4425-c418-cf67b08e6353"
      },
      "outputs": [
        {
          "data": {
            "text/plain": [
              "[22, True, 178.5]"
            ]
          },
          "execution_count": 120,
          "metadata": {},
          "output_type": "execute_result"
        }
      ],
      "source": [
        "#If we want to include the value of the last indexed we have to mention it as follows\n",
        "L1[1:4]"
      ]
    },
    {
      "cell_type": "markdown",
      "metadata": {
        "id": "MQlAJrs5_KAl"
      },
      "source": [
        "Adding a new value to the end of a list"
      ]
    },
    {
      "cell_type": "code",
      "execution_count": null,
      "metadata": {
        "colab": {
          "base_uri": "https://localhost:8080/"
        },
        "id": "BVpdXi6x--QV",
        "outputId": "055fe099-d5d8-47cc-d8fd-62531d3430da"
      },
      "outputs": [
        {
          "data": {
            "text/plain": [
              "['James', 22, True, 178.5, 80]"
            ]
          },
          "execution_count": 121,
          "metadata": {},
          "output_type": "execute_result"
        }
      ],
      "source": [
        "#Adding the weight of James to the list\n",
        "L1.append(80)\n",
        "L1"
      ]
    },
    {
      "cell_type": "markdown",
      "metadata": {
        "id": "e3GpShKQ_0Qh"
      },
      "source": [
        "Printing the List in the reverse order"
      ]
    },
    {
      "cell_type": "code",
      "execution_count": null,
      "metadata": {
        "colab": {
          "base_uri": "https://localhost:8080/"
        },
        "id": "VtptS9so_hC9",
        "outputId": "894b33f1-afd6-4c40-bd4d-bd8418535798"
      },
      "outputs": [
        {
          "name": "stdout",
          "output_type": "stream",
          "text": [
            "[80, 178.5, True, 22, 'James']\n"
          ]
        }
      ],
      "source": [
        "#Reverse the order of the list\n",
        "L1.reverse()\n",
        "print(L1)"
      ]
    },
    {
      "cell_type": "markdown",
      "metadata": {
        "id": "Z7_jWPxjBHna"
      },
      "source": [
        "Printing the value of a given variable in the dictionary"
      ]
    },
    {
      "cell_type": "code",
      "execution_count": null,
      "metadata": {
        "colab": {
          "base_uri": "https://localhost:8080/"
        },
        "id": "2eitNc5tAa7n",
        "outputId": "75f31763-262b-4914-94d6-8d92ee78b24c"
      },
      "outputs": [
        {
          "name": "stdout",
          "output_type": "stream",
          "text": [
            "James\n"
          ]
        }
      ],
      "source": [
        "employee\n",
        "print(employee.get(\"Name\"))"
      ]
    },
    {
      "cell_type": "markdown",
      "metadata": {
        "id": "_MiETIXTBxV9"
      },
      "source": [
        "Updating values in a dictionary"
      ]
    },
    {
      "cell_type": "code",
      "execution_count": null,
      "metadata": {
        "colab": {
          "base_uri": "https://localhost:8080/"
        },
        "id": "zOR_GrixBbZC",
        "outputId": "c35ccacc-419b-4913-8807-56c5386d232b"
      },
      "outputs": [
        {
          "data": {
            "text/plain": [
              "{'Name': 'James', 'Age': 24, 'Married': True, 'Height': 178.5}"
            ]
          },
          "execution_count": 124,
          "metadata": {},
          "output_type": "execute_result"
        }
      ],
      "source": [
        "employee.update({\"Age\": 24})\n",
        "employee"
      ]
    },
    {
      "cell_type": "markdown",
      "metadata": {
        "id": "Usw9U3n2D3Cy"
      },
      "source": [
        "**Python Conditions and If Statements** (**Ternary Operators**, or **Conditional\n",
        "Expressions**.)"
      ]
    },
    {
      "cell_type": "markdown",
      "metadata": {
        "id": "4m4pVhXEEHzp"
      },
      "source": [
        "Python supports the usual logical conditions from mathematics:\n",
        "\n",
        "*   Equals: a == b\n",
        "*   Not Equals: a != b\n",
        "*   Less than: a < b\n",
        "*   Less than or equal to: a <= b\n",
        "*   Greater than: a > b\n",
        "*   Greater than or equal to: a >= b\n",
        "\n",
        "\n",
        "These conditions can be used in several ways, most commonly in \"if statements\" and loops.\n"
      ]
    },
    {
      "cell_type": "markdown",
      "metadata": {
        "id": "lNiuhsa_FBOf"
      },
      "source": [
        "An \"if statement\" is written by using the `if` keyword."
      ]
    },
    {
      "cell_type": "code",
      "execution_count": null,
      "metadata": {
        "colab": {
          "base_uri": "https://localhost:8080/"
        },
        "id": "4HO_pASUCLE5",
        "outputId": "3835bbf3-4fd9-4b01-daf1-d8573d2955b6"
      },
      "outputs": [
        {
          "output_type": "stream",
          "name": "stdout",
          "text": [
            "b is greater than a\n"
          ]
        }
      ],
      "source": [
        "a = 33\n",
        "b = 200\n",
        "if b > a:\n",
        "  print(\"b is greater than a\")"
      ]
    },
    {
      "cell_type": "markdown",
      "metadata": {
        "id": "OhQR2_E8E-3E"
      },
      "source": [
        "The `elif` keyword is Python's way of saying \"If the previous conditions were not true, then try this condition\"."
      ]
    },
    {
      "cell_type": "code",
      "execution_count": null,
      "metadata": {
        "colab": {
          "base_uri": "https://localhost:8080/"
        },
        "id": "u__iz3ZsEw6n",
        "outputId": "c8da6ce1-7c52-45b7-b7db-659b9fdac775"
      },
      "outputs": [
        {
          "name": "stdout",
          "output_type": "stream",
          "text": [
            "a and b are equal\n"
          ]
        }
      ],
      "source": [
        "a = 33\n",
        "b = 33\n",
        "if b > a:\n",
        "  print(\"b is greater than a\")\n",
        "elif a == b:\n",
        "  print(\"a and b are equal\")"
      ]
    },
    {
      "cell_type": "markdown",
      "metadata": {
        "id": "2yabLvq2FaZV"
      },
      "source": [
        "The `else` keyword catches anything which isn't caught by the preceding conditions."
      ]
    },
    {
      "cell_type": "code",
      "execution_count": null,
      "metadata": {
        "colab": {
          "base_uri": "https://localhost:8080/"
        },
        "id": "TgGeIJ_iFjBH",
        "outputId": "f8f2466f-cd4e-44b5-adc3-722c5b3dff61"
      },
      "outputs": [
        {
          "name": "stdout",
          "output_type": "stream",
          "text": [
            "a is greater than b\n"
          ]
        }
      ],
      "source": [
        "a = 200\n",
        "b = 33\n",
        "if b > a:\n",
        "  print(\"b is greater than a\")\n",
        "elif a == b:\n",
        "  print(\"a and b are equal\")\n",
        "else:\n",
        "  print(\"a is greater than b\")"
      ]
    },
    {
      "cell_type": "markdown",
      "metadata": {
        "id": "6Za85cxEFwAc"
      },
      "source": [
        "We can also have an `else` without the `elif` too."
      ]
    },
    {
      "cell_type": "code",
      "execution_count": null,
      "metadata": {
        "colab": {
          "base_uri": "https://localhost:8080/"
        },
        "id": "qeQrU2fPF0G-",
        "outputId": "a426e5e8-2839-4b07-82c9-62639b9dbaf0"
      },
      "outputs": [
        {
          "name": "stdout",
          "output_type": "stream",
          "text": [
            "b is not greater than a\n"
          ]
        }
      ],
      "source": [
        "a = 200\n",
        "b = 33\n",
        "if b > a:\n",
        "  print(\"b is greater than a\")\n",
        "else:\n",
        "  print(\"b is not greater than a\")"
      ]
    },
    {
      "cell_type": "markdown",
      "metadata": {
        "id": "rf3oPP9GF7Qf"
      },
      "source": [
        "**Short Hand If**\n",
        "\n",
        "\n",
        "If you have only one statement to execute, you can put it on the same line as the if statement.\n",
        "\n"
      ]
    },
    {
      "cell_type": "code",
      "execution_count": null,
      "metadata": {
        "colab": {
          "base_uri": "https://localhost:8080/"
        },
        "id": "r1k2zXs1CdlK",
        "outputId": "17d8297e-bfcf-4254-ace2-bd7e25fa9197"
      },
      "outputs": [
        {
          "name": "stdout",
          "output_type": "stream",
          "text": [
            "a is greater than b\n"
          ]
        }
      ],
      "source": [
        "if a > b: print(\"a is greater than b\")"
      ]
    },
    {
      "cell_type": "markdown",
      "metadata": {
        "id": "srut6thgHWYo"
      },
      "source": [
        "**Short Hand If ... Else**\n",
        "\n",
        "\n",
        "If you have only one statement to execute, one for `if`, and one for `else`, you can put it all on the same line.\n"
      ]
    },
    {
      "cell_type": "code",
      "execution_count": null,
      "metadata": {
        "colab": {
          "base_uri": "https://localhost:8080/"
        },
        "id": "y_GVMutbHakW",
        "outputId": "dad5b33e-c4bb-423f-95c2-7755dba40f9e"
      },
      "outputs": [
        {
          "output_type": "stream",
          "name": "stdout",
          "text": [
            "B\n"
          ]
        }
      ],
      "source": [
        "a = 2\n",
        "b = 330\n",
        "print(\"A\") if a > b else print(\"B\")"
      ]
    },
    {
      "cell_type": "markdown",
      "metadata": {
        "id": "x9Hi9c-lIa9i"
      },
      "source": [
        "**AND**\n",
        "\n",
        "\n",
        "The `and` keyword is a logical operator, and is used to combine conditional statements."
      ]
    },
    {
      "cell_type": "code",
      "execution_count": null,
      "metadata": {
        "colab": {
          "base_uri": "https://localhost:8080/"
        },
        "id": "065T_eQ0Hnwr",
        "outputId": "3ea48824-eda6-4bf9-f945-ce7148f483a9"
      },
      "outputs": [
        {
          "name": "stdout",
          "output_type": "stream",
          "text": [
            "Both conditions are True\n"
          ]
        }
      ],
      "source": [
        "a = 200\n",
        "b = 33\n",
        "c = 500\n",
        "if a > b and c > a:\n",
        "  print(\"Both conditions are True\")"
      ]
    },
    {
      "cell_type": "markdown",
      "metadata": {
        "id": "_6Tg1u4hI7R2"
      },
      "source": [
        "**OR**\n",
        "\n",
        "\n",
        "The `or` keyword is a logical operator, and is used to combine conditional statements."
      ]
    },
    {
      "cell_type": "code",
      "execution_count": null,
      "metadata": {
        "colab": {
          "base_uri": "https://localhost:8080/"
        },
        "id": "QhxaDR1hJBnZ",
        "outputId": "0c89a877-4374-40f9-abd7-78823f443304"
      },
      "outputs": [
        {
          "output_type": "stream",
          "name": "stdout",
          "text": [
            "At least one of the conditions is True\n"
          ]
        }
      ],
      "source": [
        "a = 200\n",
        "b = 33\n",
        "c = 500\n",
        "if a > b or a > c:\n",
        "  print(\"At least one of the conditions is True\")"
      ]
    },
    {
      "cell_type": "markdown",
      "metadata": {
        "id": "KNAaqrlxJG9H"
      },
      "source": [
        "**NOT**\n",
        "\n",
        "\n",
        "The `not` keyword is a logical operator, and is used to reverse the result of the conditional statement."
      ]
    },
    {
      "cell_type": "code",
      "execution_count": null,
      "metadata": {
        "colab": {
          "base_uri": "https://localhost:8080/"
        },
        "id": "XztQ_yN-JNPl",
        "outputId": "f50bd80e-f793-428c-f52d-ef7690e3570f"
      },
      "outputs": [
        {
          "name": "stdout",
          "output_type": "stream",
          "text": [
            "a is NOT greater than b\n"
          ]
        }
      ],
      "source": [
        "a = 33\n",
        "b = 200\n",
        "if not a > b:\n",
        "  print(\"a is NOT greater than b\")"
      ]
    },
    {
      "cell_type": "markdown",
      "metadata": {
        "id": "JY-8JzV-Jcg2"
      },
      "source": [
        "**Nested If**\n",
        "\n",
        "\n",
        "You can have if statements inside if statements, this is called \"nested if\" statements."
      ]
    },
    {
      "cell_type": "code",
      "execution_count": null,
      "metadata": {
        "colab": {
          "base_uri": "https://localhost:8080/"
        },
        "id": "RcI5fQKEJcR6",
        "outputId": "49eec92b-e9fb-4ca1-decd-854dc2a3e4dc"
      },
      "outputs": [
        {
          "name": "stdout",
          "output_type": "stream",
          "text": [
            "Above ten,\n",
            "and also above twenty.\n"
          ]
        }
      ],
      "source": [
        "x = 41\n",
        "\n",
        "if x > 10:\n",
        "  print(\"Above ten,\")\n",
        "  if x > 20:\n",
        "    print(\"and also above twenty.\")\n",
        "  else:\n",
        "    print(\"but not above twenty.\")"
      ]
    },
    {
      "cell_type": "markdown",
      "metadata": {
        "id": "1jhTzTkaJ1C3"
      },
      "source": [
        "**The pass Statement**\n",
        "\n",
        "\n",
        "The `if` statements cannot be empty, but for some reason if you have an `if` statement with no content, put in the `pass` statement to avoid getting an error."
      ]
    },
    {
      "cell_type": "code",
      "execution_count": null,
      "metadata": {
        "id": "1zFN9c45J41e"
      },
      "outputs": [],
      "source": [
        "a = 33\n",
        "b = 200\n",
        "\n",
        "if b > a:\n",
        "  pass"
      ]
    },
    {
      "cell_type": "markdown",
      "metadata": {
        "id": "SOwi43ZwKpwE"
      },
      "source": [
        "**Python Loops**\n",
        "\n",
        "Python has two primitive loop commands:\n",
        "\n",
        "\n",
        "*   while loops\n",
        "*   for loops\n"
      ]
    },
    {
      "cell_type": "markdown",
      "metadata": {
        "id": "YF7CoVEbCbzl"
      },
      "source": [
        "**The while Loop**\n",
        "\n",
        "\n",
        "With the while loop we can execute a set of statements as long as a condition is true.\n",
        "\n",
        "A while loop is used when we are not sure about number of iterations at the beginning of the loop but only know the condition where the loop should be repeated."
      ]
    },
    {
      "cell_type": "code",
      "execution_count": null,
      "metadata": {
        "colab": {
          "base_uri": "https://localhost:8080/"
        },
        "id": "4KaRVzoFKssb",
        "outputId": "8b16e940-6a69-4342-ba55-f5656373c9c7"
      },
      "outputs": [
        {
          "name": "stdout",
          "output_type": "stream",
          "text": [
            "1\n",
            "2\n",
            "3\n",
            "4\n",
            "5\n"
          ]
        }
      ],
      "source": [
        "i = 1\n",
        "while i < 6:\n",
        "  print(i)\n",
        "  i += 1"
      ]
    },
    {
      "cell_type": "markdown",
      "metadata": {
        "id": "7j0yjtMGDTn6"
      },
      "source": [
        "**The break Statement**\n",
        "\n",
        "With the break statement we can stop the loop even if the while condition is true."
      ]
    },
    {
      "cell_type": "code",
      "execution_count": null,
      "metadata": {
        "colab": {
          "base_uri": "https://localhost:8080/"
        },
        "id": "EW4uO1yrDbDp",
        "outputId": "ffda6c8b-c312-41cc-dd93-c9933826651f"
      },
      "outputs": [
        {
          "name": "stdout",
          "output_type": "stream",
          "text": [
            "1\n",
            "2\n",
            "3\n"
          ]
        }
      ],
      "source": [
        "i = 1\n",
        "while i < 6:\n",
        "    print(i)\n",
        "    if i == 3:\n",
        "      break\n",
        "    i += 1"
      ]
    },
    {
      "cell_type": "markdown",
      "metadata": {
        "id": "lFwdkUCxEJfn"
      },
      "source": [
        "**The continue Statement**\n",
        "\n",
        "With the continue statement we can stop the current iteration, and continue with (start from) the next iteration."
      ]
    },
    {
      "cell_type": "code",
      "execution_count": null,
      "metadata": {
        "colab": {
          "base_uri": "https://localhost:8080/"
        },
        "id": "QwfaQRUuEQ7_",
        "outputId": "37766299-c492-441d-b387-74d26d8c0511"
      },
      "outputs": [
        {
          "output_type": "stream",
          "name": "stdout",
          "text": [
            "1\n",
            "2\n",
            "4\n",
            "5\n",
            "6\n"
          ]
        }
      ],
      "source": [
        "i = 0\n",
        "while i < 6:\n",
        "  i += 1\n",
        "  if i == 3:\n",
        "    continue\n",
        "  print(i)"
      ]
    },
    {
      "cell_type": "markdown",
      "metadata": {
        "id": "KvLnvicXE-JF"
      },
      "source": [
        "**The else Statement**\n",
        "\n",
        "\n",
        "With the else statement we can run a block of code once when the condition is no longer true."
      ]
    },
    {
      "cell_type": "code",
      "execution_count": null,
      "metadata": {
        "colab": {
          "base_uri": "https://localhost:8080/"
        },
        "id": "KhXPIgOKFHz2",
        "outputId": "843333e5-893b-4c0b-e58c-13849f2b1451"
      },
      "outputs": [
        {
          "output_type": "stream",
          "name": "stdout",
          "text": [
            "1\n",
            "2\n",
            "3\n",
            "4\n",
            "5\n",
            "i is no longer less than 6\n"
          ]
        }
      ],
      "source": [
        "i = 1\n",
        "while i < 6:\n",
        "  print(i)\n",
        "  i += 1\n",
        "else:\n",
        "  print(\"i is no longer less than 6\")"
      ]
    },
    {
      "cell_type": "markdown",
      "metadata": {
        "id": "7dl9zt4uFZcG"
      },
      "source": [
        "**Python `for` Loops**\n",
        "\n",
        "A for loop is used for iterating over a sequence (that is either a list, a tuple, a dictionary, a set, or a string).\n",
        "\n",
        "This is less like the `for` keyword in other programming languages, and works more like an iterator method as found in other object-orientated programming languages.\n",
        "\n",
        "With the for loop we can execute a set of statements, once for each item in a list, tuple, set etc.\n",
        "\n",
        "A `for` loop is used instead of a `while` loop when we know the number of iterations to execute at the beginning of the loop."
      ]
    },
    {
      "cell_type": "markdown",
      "metadata": {
        "id": "KLQXCuJCH5vQ"
      },
      "source": [
        "**Prints each element in the list seperately**"
      ]
    },
    {
      "cell_type": "code",
      "execution_count": null,
      "metadata": {
        "colab": {
          "base_uri": "https://localhost:8080/"
        },
        "id": "3Ddnmg12H0RV",
        "outputId": "31900e7a-f510-4d39-e0bb-d8ba9d68e539"
      },
      "outputs": [
        {
          "name": "stdout",
          "output_type": "stream",
          "text": [
            "apple\n",
            "banana\n",
            "cherry\n"
          ]
        }
      ],
      "source": [
        "#Iterate over each of the item in the list\n",
        "fruits = [\"apple\", \"banana\", \"cherry\"]\n",
        "for x in fruits:\n",
        "  print(x)"
      ]
    },
    {
      "cell_type": "markdown",
      "metadata": {
        "id": "i8m6On24IKKU"
      },
      "source": [
        "**Looping through a String**\n",
        "\n",
        "Even strings are iterable objects, as they contain a sequence of characters."
      ]
    },
    {
      "cell_type": "code",
      "execution_count": null,
      "metadata": {
        "colab": {
          "base_uri": "https://localhost:8080/"
        },
        "id": "bzm9Z3ibIJrY",
        "outputId": "3106f40f-9144-4e4f-86ca-f78194327f20"
      },
      "outputs": [
        {
          "name": "stdout",
          "output_type": "stream",
          "text": [
            "b\n",
            "a\n",
            "n\n",
            "a\n",
            "n\n",
            "a\n"
          ]
        }
      ],
      "source": [
        "for x in \"banana\":\n",
        "  print(x)"
      ]
    },
    {
      "cell_type": "markdown",
      "metadata": {
        "id": "Q17iEo8HIhn3"
      },
      "source": [
        "**The break Statement**\n",
        "\n",
        "With the break statement we can stop the loop before it has looped through all the items."
      ]
    },
    {
      "cell_type": "code",
      "execution_count": null,
      "metadata": {
        "colab": {
          "base_uri": "https://localhost:8080/"
        },
        "id": "1UF-Nl_HIajY",
        "outputId": "1b730080-8a0f-4806-bd32-16fbc29f4ec6"
      },
      "outputs": [
        {
          "name": "stdout",
          "output_type": "stream",
          "text": [
            "apple\n",
            "banana\n"
          ]
        }
      ],
      "source": [
        "fruits = [\"apple\", \"banana\", \"cherry\"]\n",
        "for x in fruits:\n",
        "  print(x)\n",
        "  if x == \"banana\":\n",
        "    break"
      ]
    },
    {
      "cell_type": "code",
      "execution_count": null,
      "metadata": {
        "colab": {
          "base_uri": "https://localhost:8080/"
        },
        "id": "8bKFPjhaI2Ia",
        "outputId": "e2743369-65f7-4857-b67b-18007f18fc11"
      },
      "outputs": [
        {
          "name": "stdout",
          "output_type": "stream",
          "text": [
            "apple\n"
          ]
        }
      ],
      "source": [
        "#What happens if the break comes before print?\n",
        "fruits = [\"apple\", \"banana\", \"cherry\"]\n",
        "for x in fruits:\n",
        "  if x == \"banana\":\n",
        "    break\n",
        "  print(x)"
      ]
    },
    {
      "cell_type": "markdown",
      "metadata": {
        "id": "M-nSqQteI2ix"
      },
      "source": [
        "**The continue Statement**\n",
        "\n",
        "With the continue statement we can stop the current iteration of the loop, and start from the beginning of the next iteration."
      ]
    },
    {
      "cell_type": "code",
      "execution_count": null,
      "metadata": {
        "colab": {
          "base_uri": "https://localhost:8080/"
        },
        "id": "jR3i8NnEJOAq",
        "outputId": "beec359a-7eed-4b39-a72b-54fbf453afaf"
      },
      "outputs": [
        {
          "name": "stdout",
          "output_type": "stream",
          "text": [
            "apple\n",
            "cherry\n"
          ]
        }
      ],
      "source": [
        "fruits = [\"apple\", \"banana\", \"cherry\"]\n",
        "for x in fruits:\n",
        "  if x == \"banana\":\n",
        "    continue\n",
        "  print(x)"
      ]
    },
    {
      "cell_type": "markdown",
      "metadata": {
        "id": "vnilOeuyJcZ4"
      },
      "source": [
        "**The range function**\n",
        "\n",
        "To loop through a set of code a specified number of times, we can use the `range` function,\n",
        "\n",
        "The `range` function returns a sequence of numbers, starting from 0 by default, and increments by 1 (by default), and ends  at the specified number (excluding that number)."
      ]
    },
    {
      "cell_type": "code",
      "execution_count": null,
      "metadata": {
        "colab": {
          "base_uri": "https://localhost:8080/"
        },
        "id": "VqU8A1NsJWBw",
        "outputId": "8fef1865-a5d6-47db-a990-330f4efc9f96"
      },
      "outputs": [
        {
          "name": "stdout",
          "output_type": "stream",
          "text": [
            "0\n",
            "1\n",
            "2\n",
            "3\n",
            "4\n",
            "5\n"
          ]
        }
      ],
      "source": [
        "for x in range(6):\n",
        "  print(x)"
      ]
    },
    {
      "cell_type": "markdown",
      "metadata": {
        "id": "6j2KrRGtJq1C"
      },
      "source": [
        "The `range` function defaults to 0 as a starting value, however it is possible to specify the starting value by adding a parameter: `range(2, 6)`, which means on values from 2 to 6 (but not including 6):"
      ]
    },
    {
      "cell_type": "code",
      "execution_count": null,
      "metadata": {
        "colab": {
          "base_uri": "https://localhost:8080/"
        },
        "id": "J20EEH0jJzBF",
        "outputId": "dfc2bae0-46a4-4c34-ac1a-30e6353e1b9d"
      },
      "outputs": [
        {
          "name": "stdout",
          "output_type": "stream",
          "text": [
            "2\n",
            "3\n",
            "4\n",
            "5\n"
          ]
        }
      ],
      "source": [
        "for x in range(2, 6):\n",
        "  print(x)"
      ]
    },
    {
      "cell_type": "markdown",
      "metadata": {
        "id": "3L_LCpCDKCtg"
      },
      "source": [
        "The `range` function defaults to increment the sequence by 1, however it is possible to specify the increment value by adding a third parameter: `range(2, 30, 3)`:"
      ]
    },
    {
      "cell_type": "code",
      "execution_count": null,
      "metadata": {
        "colab": {
          "base_uri": "https://localhost:8080/"
        },
        "id": "iRRSgt51KFmx",
        "outputId": "80ea0e32-28ea-4624-9a65-fbecdea1c53e"
      },
      "outputs": [
        {
          "output_type": "stream",
          "name": "stdout",
          "text": [
            "2\n",
            "5\n",
            "8\n",
            "11\n",
            "14\n",
            "17\n",
            "20\n",
            "23\n",
            "26\n",
            "29\n"
          ]
        }
      ],
      "source": [
        "for x in range(2, 30, 3):\n",
        "  print(x)"
      ]
    },
    {
      "cell_type": "markdown",
      "metadata": {
        "id": "-OBm-Ou_KM94"
      },
      "source": [
        "**Using `else` in a `for` Loop**\n",
        "\n",
        "The else keyword in a for loop specifies a block of code to be executed when the loop is finished:"
      ]
    },
    {
      "cell_type": "code",
      "execution_count": null,
      "metadata": {
        "colab": {
          "base_uri": "https://localhost:8080/"
        },
        "id": "LVeeCeIsLeyg",
        "outputId": "6b431e70-0dcb-4eda-b794-e8380fdadf55",
        "scrolled": true
      },
      "outputs": [
        {
          "name": "stdout",
          "output_type": "stream",
          "text": [
            "0\n",
            "1\n",
            "2\n",
            "3\n",
            "4\n",
            "5\n",
            "Finally finished!\n"
          ]
        }
      ],
      "source": [
        "for x in range(6):\n",
        "  print(x)\n",
        "else:\n",
        "  print(\"Finally finished!\")"
      ]
    },
    {
      "cell_type": "markdown",
      "metadata": {
        "id": "pM8jRtSULif9"
      },
      "source": [
        "The `else` block will NOT be executed if the loop is stopped by a `break` statement."
      ]
    },
    {
      "cell_type": "code",
      "execution_count": null,
      "metadata": {
        "colab": {
          "base_uri": "https://localhost:8080/"
        },
        "id": "tLDmkyTnLpfw",
        "outputId": "bf425d3e-5dd6-4b15-f28f-76c9454dd375"
      },
      "outputs": [
        {
          "output_type": "stream",
          "name": "stdout",
          "text": [
            "0\n",
            "1\n",
            "2\n"
          ]
        }
      ],
      "source": [
        "for x in range(6):\n",
        "  if x == 3: break\n",
        "  print(x)\n",
        "else:\n",
        "  print(\"Finally finished!\")"
      ]
    },
    {
      "cell_type": "markdown",
      "metadata": {
        "id": "Ir7SxT34MgGc"
      },
      "source": [
        "**Nested Loops**\n",
        "\n",
        "A nested loop is a loop inside a loop.\n",
        "\n",
        "The \"inner loop\" will be executed one time for each iteration of the \"outer loop\":"
      ]
    },
    {
      "cell_type": "code",
      "execution_count": null,
      "metadata": {
        "colab": {
          "base_uri": "https://localhost:8080/"
        },
        "id": "GX0MOtymMcwx",
        "outputId": "96103924-2963-4029-aa3a-345853834b20"
      },
      "outputs": [
        {
          "name": "stdout",
          "output_type": "stream",
          "text": [
            "red apple\n",
            "red banana\n",
            "red cherry\n",
            "big apple\n",
            "big banana\n",
            "big cherry\n",
            "tasty apple\n",
            "tasty banana\n",
            "tasty cherry\n"
          ]
        }
      ],
      "source": [
        "#Using a nested `for` loop inside a `for` loop\n",
        "adj = [\"red\", \"big\", \"tasty\"]\n",
        "fruits = [\"apple\", \"banana\", \"cherry\"]\n",
        "\n",
        "for x in adj:\n",
        "  for y in fruits:\n",
        "    print(x, y)"
      ]
    },
    {
      "cell_type": "markdown",
      "metadata": {
        "id": "N5Z5RotFNI4w"
      },
      "source": [
        "**The pass Statement**\n",
        "\n",
        "The `for` loops cannot be empty, but if you for some reason have a `for` loop with no content, put in the `pass` statement to avoid getting an error."
      ]
    },
    {
      "cell_type": "code",
      "execution_count": null,
      "metadata": {
        "id": "l-8YnbI_NM6J"
      },
      "outputs": [],
      "source": [
        "for x in [0, 1, 2]:\n",
        "  pass"
      ]
    },
    {
      "cell_type": "markdown",
      "metadata": {
        "id": "FaIlUwRIOKI0"
      },
      "source": [
        "**Python Functions**\n",
        "\n",
        "A function is a block of code which only runs when it is called.\n",
        "\n",
        "You can pass data, known as parameters, into a function.\n",
        "\n",
        "A function can return data as a result."
      ]
    },
    {
      "cell_type": "markdown",
      "metadata": {
        "id": "qJipRbnmOenc"
      },
      "source": [
        "**Creating a Function and calling it**\n",
        "\n",
        "\n"
      ]
    },
    {
      "cell_type": "code",
      "execution_count": null,
      "metadata": {
        "colab": {
          "base_uri": "https://localhost:8080/"
        },
        "id": "nLpLxXxRObi0",
        "outputId": "a3001a42-1292-4da5-ee54-c3fcd60da4e1"
      },
      "outputs": [
        {
          "name": "stdout",
          "output_type": "stream",
          "text": [
            "My name is Anne\n"
          ]
        }
      ],
      "source": [
        "#In Python a function is defined using the `def` keyword\n",
        "def my_function():\n",
        "  print(\"My name is Anne\")\n",
        "\n",
        "#To call a function, use the function name followed by parenthesis\n",
        "my_function()"
      ]
    },
    {
      "cell_type": "markdown",
      "metadata": {
        "id": "fIOBAXsoPR-Q"
      },
      "source": [
        "**Arguments of a function**\n",
        "\n",
        "Information can be passed into functions as arguments.\n",
        "\n",
        "Arguments are specified after the function name, inside the parentheses. You can add as many arguments as you want, just separate them with a comma.\n",
        "\n",
        "The following example has a function with one argument (firstname). When the function is called, we pass along a first name, which is used inside the function to print the full name:"
      ]
    },
    {
      "cell_type": "code",
      "execution_count": null,
      "metadata": {
        "colab": {
          "base_uri": "https://localhost:8080/"
        },
        "id": "GNPX4tqpPDKl",
        "outputId": "54b1ae3b-c052-427a-eeb9-5d3fccd5b1ca"
      },
      "outputs": [
        {
          "name": "stdout",
          "output_type": "stream",
          "text": [
            "Nethan Fernando\n",
            "Chad Fernando\n",
            "Natasha Fernando\n"
          ]
        }
      ],
      "source": [
        "#Define and call function `print_name` to print the full name\n",
        "def print_name(firstname):\n",
        "  print(firstname + \" Fernando\")\n",
        "\n",
        "print_name(\"Nethan\")\n",
        "print_name(\"Chad\")\n",
        "print_name(\"Natasha\")"
      ]
    },
    {
      "cell_type": "markdown",
      "metadata": {
        "id": "JEMHW7eiPtIz"
      },
      "source": [
        "**Parameters or Arguments?**\n",
        "\n",
        "The terms parameter and argument can be used for the same thing: information that are passed into a function.\n",
        "\n",
        "From a function's perspective:\n",
        "*   A parameter is the variable listed inside the parentheses in the function definition.\n",
        "*   An argument is the value that is sent to the function when it is called.\n",
        "\n"
      ]
    },
    {
      "cell_type": "markdown",
      "metadata": {
        "id": "SLvlthUlQK__"
      },
      "source": [
        "**Number of Arguments**\n",
        "\n",
        "By default, a function must be called with the correct number of arguments. Meaning that if your function expects 2 arguments, you have to call the function with 2 arguments, not more, and not less."
      ]
    },
    {
      "cell_type": "code",
      "execution_count": null,
      "metadata": {
        "colab": {
          "base_uri": "https://localhost:8080/"
        },
        "id": "1nXfo8KwQAvW",
        "outputId": "03dc72b2-159a-48e7-84d0-df82016fa361"
      },
      "outputs": [
        {
          "name": "stdout",
          "output_type": "stream",
          "text": [
            "Toby Simmons\n"
          ]
        }
      ],
      "source": [
        "#This function expects exactly 2 arguments when it is called\n",
        "def print_name(firstname, lastname):\n",
        "  print(firstname + \" \" + lastname)\n",
        "\n",
        "print_name(\"Toby\", \"Simmons\")"
      ]
    },
    {
      "cell_type": "code",
      "execution_count": null,
      "metadata": {
        "colab": {
          "base_uri": "https://localhost:8080/",
          "height": 214
        },
        "id": "O9QB-N0rQuey",
        "outputId": "4849740c-a589-4b5a-ba6b-8e0d73959ec8"
      },
      "outputs": [
        {
          "ename": "TypeError",
          "evalue": "print_name() missing 1 required positional argument: 'lastname'",
          "output_type": "error",
          "traceback": [
            "\u001b[1;31m---------------------------------------------------------------------------\u001b[0m",
            "\u001b[1;31mTypeError\u001b[0m                                 Traceback (most recent call last)",
            "\u001b[1;32m~\\AppData\\Local\\Temp\\ipykernel_11736\\2275869399.py\u001b[0m in \u001b[0;36m<module>\u001b[1;34m\u001b[0m\n\u001b[0;32m      3\u001b[0m   \u001b[0mprint\u001b[0m\u001b[1;33m(\u001b[0m\u001b[0mfirstname\u001b[0m \u001b[1;33m+\u001b[0m \u001b[1;34m\" \"\u001b[0m \u001b[1;33m+\u001b[0m \u001b[0mlastname\u001b[0m\u001b[1;33m)\u001b[0m\u001b[1;33m\u001b[0m\u001b[1;33m\u001b[0m\u001b[0m\n\u001b[0;32m      4\u001b[0m \u001b[1;33m\u001b[0m\u001b[0m\n\u001b[1;32m----> 5\u001b[1;33m \u001b[0mprint_name\u001b[0m\u001b[1;33m(\u001b[0m\u001b[1;34m\"Toby\"\u001b[0m\u001b[1;33m)\u001b[0m\u001b[1;33m\u001b[0m\u001b[1;33m\u001b[0m\u001b[0m\n\u001b[0m",
            "\u001b[1;31mTypeError\u001b[0m: print_name() missing 1 required positional argument: 'lastname'"
          ]
        }
      ],
      "source": [
        "#This function expects 2 arguments, but gets only 1, so it gives an error\n",
        "def print_name(firstname, lastname):\n",
        "  print(firstname + \" \" + lastname)\n",
        "\n",
        "print_name(\"Toby\")"
      ]
    },
    {
      "cell_type": "markdown",
      "metadata": {
        "id": "dVC2Zzq-Q7gk"
      },
      "source": [
        "**Arbitrary Arguments**\n",
        "\n",
        "If you do not know how many arguments that will be passed into your function, add a * before the parameter name in the function definition.\n",
        "\n",
        "This way the function will receive a tuple of arguments, and can access the items accordingly."
      ]
    },
    {
      "cell_type": "code",
      "execution_count": null,
      "metadata": {
        "colab": {
          "base_uri": "https://localhost:8080/"
        },
        "id": "69R0BAMCRJHL",
        "outputId": "5c15b4c5-1444-4a7a-87c2-5444beeacfab"
      },
      "outputs": [
        {
          "name": "stdout",
          "output_type": "stream",
          "text": [
            "The youngest child is Toby\n"
          ]
        }
      ],
      "source": [
        "#Arbitrary Arguments are often shortened to *args in Python documentations\n",
        "def print_youngest_kid(*kids):\n",
        "  print(\"The youngest child is \" + kids[2])\n",
        "\n",
        "print_youngest_kid(\"Frank\", \"Mark\", \"Toby\")"
      ]
    },
    {
      "cell_type": "markdown",
      "metadata": {
        "id": "26hBGm-nR2sl"
      },
      "source": [
        "**Keyword Arguments**\n",
        "\n",
        "You can also send arguments with the `key = value` syntax.\n",
        "\n",
        "This way the order of the arguments does not matter."
      ]
    },
    {
      "cell_type": "code",
      "execution_count": null,
      "metadata": {
        "colab": {
          "base_uri": "https://localhost:8080/"
        },
        "id": "3iGdYv0kR2YE",
        "outputId": "838e3efa-a2b8-4096-e68f-5238659b680c"
      },
      "outputs": [
        {
          "name": "stdout",
          "output_type": "stream",
          "text": [
            "The youngest child is Toby\n"
          ]
        }
      ],
      "source": [
        "def print_youngest_kid(child3, child2, child1):\n",
        "  print(\"The youngest child is \" + child3)\n",
        "\n",
        "print_youngest_kid(child1 = \"Frank\", child2 = \"Mark\", child3 = \"Toby\")"
      ]
    },
    {
      "cell_type": "markdown",
      "metadata": {
        "id": "fxD102pvSrPf"
      },
      "source": [
        "**Default Parameter Value**\n",
        "\n",
        "The following example shows how to use a default parameter value.\n",
        "\n",
        "If we call the function without argument, it uses the default value."
      ]
    },
    {
      "cell_type": "code",
      "execution_count": null,
      "metadata": {
        "colab": {
          "base_uri": "https://localhost:8080/"
        },
        "id": "NaH4jwQ-SvcG",
        "outputId": "05dcea32-7668-49b6-9647-593ea303bb1a"
      },
      "outputs": [
        {
          "name": "stdout",
          "output_type": "stream",
          "text": [
            "I am from Sri Lanka\n",
            "I am from India\n",
            "I am from Australia\n",
            "I am from Sweden\n"
          ]
        }
      ],
      "source": [
        "def print_my_country(country = \"Australia\"):\n",
        "  print(\"I am from \" + country)\n",
        "\n",
        "print_my_country(\"Sri Lanka\")\n",
        "print_my_country(\"India\")\n",
        "print_my_country()\n",
        "print_my_country(\"Sweden\")"
      ]
    },
    {
      "cell_type": "markdown",
      "metadata": {
        "id": "LEeE7XR1S-KB"
      },
      "source": [
        "**Return Values**\n",
        "\n",
        "To let a function return a value, use the return statement:"
      ]
    },
    {
      "cell_type": "code",
      "execution_count": null,
      "metadata": {
        "colab": {
          "base_uri": "https://localhost:8080/"
        },
        "id": "vJMRQRl7S95E",
        "outputId": "ea4f9854-d959-4af1-a8d1-de35f0e25867"
      },
      "outputs": [
        {
          "name": "stdout",
          "output_type": "stream",
          "text": [
            "15\n",
            "25\n",
            "45\n"
          ]
        }
      ],
      "source": [
        "def multiply_by_five(x):\n",
        "  return 5 * x\n",
        "\n",
        "print(multiply_by_five(3))\n",
        "print(multiply_by_five(5))\n",
        "print(multiply_by_five(9))"
      ]
    }
  ],
  "metadata": {
    "colab": {
      "provenance": [],
      "include_colab_link": true
    },
    "kernelspec": {
      "display_name": "Python 3 (ipykernel)",
      "language": "python",
      "name": "python3"
    },
    "language_info": {
      "codemirror_mode": {
        "name": "ipython",
        "version": 3
      },
      "file_extension": ".py",
      "mimetype": "text/x-python",
      "name": "python",
      "nbconvert_exporter": "python",
      "pygments_lexer": "ipython3",
      "version": "3.9.13"
    }
  },
  "nbformat": 4,
  "nbformat_minor": 0
}